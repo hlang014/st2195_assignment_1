{
 "cells": [
  {
   "cell_type": "code",
   "execution_count": null,
   "id": "017ba6ab-3f61-4d83-87c3-f982207e5dfa",
   "metadata": {},
   "outputs": [],
   "source": [
    "#Using For ... Loop\n"
   ]
  },
  {
   "cell_type": "code",
   "execution_count": 1,
   "id": "bee10e1b-cec5-4959-ad9a-00e68d5535ab",
   "metadata": {},
   "outputs": [
    {
     "name": "stdout",
     "output_type": "stream",
     "text": [
      "1\n",
      "2\n",
      "3\n",
      "4\n",
      "5\n",
      "6\n",
      "7\n",
      "8\n",
      "9\n",
      "10\n"
     ]
    }
   ],
   "source": [
    "for i in range(1,11):\n",
    "    print(i)\n",
    "\n"
   ]
  }
 ],
 "metadata": {
  "kernelspec": {
   "display_name": "Python 3 (ipykernel)",
   "language": "python",
   "name": "python3"
  },
  "language_info": {
   "codemirror_mode": {
    "name": "ipython",
    "version": 3
   },
   "file_extension": ".py",
   "mimetype": "text/x-python",
   "name": "python",
   "nbconvert_exporter": "python",
   "pygments_lexer": "ipython3",
   "version": "3.11.7"
  }
 },
 "nbformat": 4,
 "nbformat_minor": 5
}
